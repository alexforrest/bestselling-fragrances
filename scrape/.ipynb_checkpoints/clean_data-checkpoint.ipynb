{
 "cells": [
  {
   "cell_type": "code",
   "execution_count": 2,
   "metadata": {},
   "outputs": [],
   "source": [
    "import pandas as pd\n",
    "import numpy as np\n"
   ]
  },
  {
   "cell_type": "code",
   "execution_count": 3,
   "metadata": {},
   "outputs": [],
   "source": [
    "#set urls \n",
    "df_m_raw = pd.read_csv('~/perfume_proj/data/raw/men_fragrance_details.csv', na_values=None).drop([254, 255])\n",
    "df_w_raw = pd.read_csv('~/perfume_proj/data/raw/women_fragrance_details.csv', na_values=None).drop([672, 750, 903, 1082, 1099])\n",
    "bestseller_urls = pd.read_csv('~/perfume_proj/data/urls/bestsellers_urls.csv', squeeze = True)\n",
    "\n",
    "#find unisex values by finding duplicates \n",
    "df_dup = pd.concat([df_m_raw, df_w_raw]).drop(['limited_edition','image_url'], axis =1)\n",
    "unisex_index = df_dup[df_dup.duplicated(keep = False)].index\n",
    "\n",
    "#set sex\n",
    "df_m_raw['sex'] = 'men'\n",
    "df_w_raw['sex'] = 'women'\n",
    "\n",
    "#set unisex, drop first duplicates\n",
    "df_raw = pd.concat([df_m_raw, df_w_raw]).drop(['limited_edition','image_url'], axis =1)\n",
    "df_raw.iloc[unisex_index, -1] = 'unisex'\n",
    "df_raw = df_raw[~df_raw.duplicated()]"
   ]
  },
  {
   "cell_type": "code",
   "execution_count": 4,
   "metadata": {},
   "outputs": [],
   "source": [
    "#empty dataframe, will contain cleaned data\n",
    "df_details = pd.DataFrame()\n",
    "\n",
    "#add bestsellers to df_details\n",
    "best = bestseller_urls.str.title().str.strip(\"''\").str.split(':', expand = True).iloc[:, 1].tolist()\n",
    "\n",
    "#extract component of bestseller url to match in full url\n",
    "df_raw['comp'] = df_raw.url.str.extract(r\"(P[0-9]*)\")\n",
    "df_details['bestseller'] = df_raw.comp.isin(best)"
   ]
  },
  {
   "cell_type": "code",
   "execution_count": 5,
   "metadata": {},
   "outputs": [],
   "source": [
    "#reset indexes\n",
    "df_details = df_details.reset_index(drop = True)\n",
    "df_raw = df_raw.reset_index(drop = True)"
   ]
  },
  {
   "cell_type": "code",
   "execution_count": 6,
   "metadata": {},
   "outputs": [],
   "source": [
    "#preliminary clean\n",
    "def remove_symbols(column, df):\n",
    "    df[column] = df[column].str.strip(\"[]/''\\$\\ \").str.lower()\n",
    "    \n",
    "def make_list(column, df):\n",
    "    remove_symbols(column, df)\n",
    "    df[column] = df[column].str.split(',')\n",
    "\n",
    "#columns to create list from strings\n",
    "columns = list(df_raw.columns[1:7])\n",
    "columns.remove('oz_at_price')\n",
    "\n",
    "for col in columns:\n",
    "    make_list(col, df_raw)\n",
    "\n",
    "#columns to clean only\n",
    "remove_symbols('oz_at_price', df_raw)\n",
    "remove_symbols('fragrance_info', df_raw)"
   ]
  },
  {
   "cell_type": "code",
   "execution_count": 7,
   "metadata": {},
   "outputs": [
    {
     "name": "stderr",
     "output_type": "stream",
     "text": [
      "/usr/local/Cellar/jupyter/1.0.0_5/libexec/lib/python3.7/site-packages/ipykernel_launcher.py:24: SettingWithCopyWarning: \n",
      "A value is trying to be set on a copy of a slice from a DataFrame\n",
      "\n",
      "See the caveats in the documentation: http://pandas.pydata.org/pandas-docs/stable/indexing.html#indexing-view-versus-copy\n"
     ]
    }
   ],
   "source": [
    "#clean price, make numeric\n",
    "df_raw.price = df_raw.price.apply(lambda x: x[0].strip(\"''\"))\n",
    "df_raw.price = pd.to_numeric(df_raw.price, errors ='coerce' )\n",
    "\n",
    "#cleans brand_info\n",
    "df_raw.brand_info = df_raw.brand_info.astype(str).str.strip(\"[]/ ' ' \").str.lower()\n",
    "\n",
    "#clean item_no_or_size, remove 'Item' and \"Size\" from list where present\n",
    "df_raw.item_no_or_size = df_raw.item_no_or_size.apply(lambda x: [x[1], np.nan] if len(x)<=2 else [x[-1], x[1]])\n",
    "\n",
    "#add ozs from header to oz_at_price column\n",
    "df_raw['oz_from_header'] = df_raw.item_no_or_size.apply(lambda x: x[1])\n",
    "df_raw.oz_from_header = df_raw.oz_from_header.str.extract(r\"(\\d+.*\\ oz)\")\n",
    "\n",
    "#separate oz from type into new columns \n",
    "df_raw[['oz', 'type_raw']] = df_raw.oz_at_price.str.split('oz', expand = True)\n",
    "\n",
    "#clean oz, make numeric\n",
    "df_raw.oz = df_raw.oz.str.replace(r\"(<.*>+)[a-zA-Z]*(,)*( ')*\", '')\n",
    "df_raw.oz = df_raw.oz.str.strip(\"' '\")\n",
    "df_raw.oz = pd.to_numeric(df_raw.oz, errors = 'coerce')\n",
    "\n",
    "#combine with oz from header\n",
    "df_raw.oz[df_raw.oz.isnull()] = df_raw.oz_from_header\n",
    "df_raw.oz = df_raw.oz.astype(str)\n",
    "df_raw.oz = df_raw.oz.str.strip(r\" oz\")\n",
    "df_raw.oz = pd.to_numeric(df_raw.oz, errors = 'coerce')\n",
    "\n",
    "\n",
    "#remove miscellaneous formats ml, g, et, fillna(None, empty string)\n",
    "df_raw['type'] = df_raw.type_raw.str.strip(' ').str\\\n",
    "                .replace(r\"(/ *\\d+(\\.\\d*)?|\\.\\d*)*( ml *)*( ml')*(',.*)*( g *)*( *' *)*\", '')\n",
    "df_raw.type.fillna(value = np.nan, inplace = True)\n",
    "df_raw.type = df_raw.type.replace('', np.nan)\n",
    "\n",
    "#split loves and reviews into separate columns, remove 'loves', 'reviews' strings\n",
    "df_raw.feedback = df_raw.feedback.apply(lambda x: [x[0].split(' ')[0], x[1].strip(\" ['']\")])\n",
    "df_raw[['reviews', 'loves']] = pd.DataFrame(df_raw.feedback.tolist())\n",
    "\n",
    "#create list of ratings from str\n",
    "df_raw.ratings = df_raw.ratings.apply(lambda x: [x]*5 if type(x)==float else \n",
    "                                      [r.strip(\" ''\") for i, r in enumerate(x) if i%2 !=0])\n",
    "\n",
    "#create list of options from str\n",
    "df_raw.options = df_raw.options.apply(lambda x: x if type(x) == float else \n",
    "                         [v.strip(r\"( ' ' )*\") for v in x if v.strip(r\"( ')*\").replace(' ', \"\").isalpha()])\n",
    "\n",
    "#split brand_info to brand, product_name\n",
    "df_raw[['brand', 'product_name']] = df_raw.brand_info.str.split(',', expand = True).drop([2, 3], axis =1)\n",
    "\n",
    "\n",
    "#add cleaned columns to df_details\n",
    "df_details['brand'] = df_raw.brand.str.strip(\" *'' *\")\n",
    "df_details['product_name'] = df_raw.product_name.str.strip(\" *'*' *\")\n",
    "df_details['item_no'] = df_raw.item_no_or_size.apply(lambda x: x[0].strip(\" '\"))\n",
    "df_details[['5_star', '4_star', '3_star', '2_star', '1_star']] = pd.DataFrame(df_raw.ratings.tolist())\n",
    "df_details['price'] = df_raw.price\n",
    "df_details['oz_at_price'] = df_raw.oz\n",
    "df_details['options'] = df_raw.options\n",
    "df_details['sex'] = df_raw.sex\n",
    "df_details['type']= df_raw.type\n",
    "df_details['loves'] = df_raw.loves.apply(lambda x: str(x[:-1])+'000' if x[-1] == 'k' else x)\n",
    "df_details['reviews'] = df_raw.reviews.apply(lambda x: str(x[:-1])+'000' if x[-1] == 'k' else x)\n",
    "df_details['dominant_color'] = df_raw.dominant_color\n",
    "\n",
    "#create columns with common fragrance descriptors as features\n",
    "scent_descriptors = ['floral', 'fresh ', 'warm', 'spicy|spice', 'earthy', 'woody|wood', \n",
    "                     'musk|musky', 'vanilla', 'fruit|fruity', 'sweet', 'oil', 'rose']\n",
    "\n",
    "for d in scent_descriptors:\n",
    "    df_details[d] = df_raw.fragrance_info.str.contains(d).apply(lambda x: 1 if x is True else 0 )"
   ]
  },
  {
   "cell_type": "code",
   "execution_count": 17,
   "metadata": {},
   "outputs": [],
   "source": [
    "df_details.to_csv('~/perfume_proj/data/processed/fragrance_details.csv',index = 0)"
   ]
  },
  {
   "cell_type": "code",
   "execution_count": null,
   "metadata": {},
   "outputs": [],
   "source": []
  }
 ],
 "metadata": {
  "kernelspec": {
   "display_name": "perfume_proj",
   "language": "python",
   "name": "env"
  },
  "language_info": {
   "codemirror_mode": {
    "name": "ipython",
    "version": 3
   },
   "file_extension": ".py",
   "mimetype": "text/x-python",
   "name": "python",
   "nbconvert_exporter": "python",
   "pygments_lexer": "ipython3",
   "version": "3.7.0"
  }
 },
 "nbformat": 4,
 "nbformat_minor": 2
}
