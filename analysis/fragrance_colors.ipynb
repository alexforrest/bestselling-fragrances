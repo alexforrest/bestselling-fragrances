{
 "cells": [
  {
   "cell_type": "code",
   "execution_count": 12,
   "metadata": {},
   "outputs": [],
   "source": [
    "import io\n",
    "import pandas as pd\n",
    "import numpy as np\n",
    "from colorthief import ColorThief\n",
    "\n",
    "df_raw_m= pd.read_csv('/Users/alexandraharlan/perfume_proj/data/raw/men_fragrance_details.csv')\n",
    "df_raw_w= pd.read_csv('/Users/alexandraharlan/perfume_proj/data/raw/women_fragrance_details.csv')"
   ]
  },
  {
   "cell_type": "code",
   "execution_count": 2,
   "metadata": {},
   "outputs": [],
   "source": [
    "def get_image_filename(df, column):\n",
    "    \"\"\"from fragrance details csv extract image filename \n",
    "        pattern from url and add to new df column\"\"\"\n",
    "    df['image_filename'] = 0\n",
    "    for i, image in df[column].iteritems():\n",
    "        df.loc[i, 'image_filename' ] = image.split('/')[-1]\n",
    "        \n",
    "get_image_filename(df_raw_m, 'image_url')\n",
    "get_image_filename(df_raw_w,'image_url')"
   ]
  },
  {
   "cell_type": "code",
   "execution_count": 3,
   "metadata": {},
   "outputs": [],
   "source": [
    "def get_dominant_color(file_path, female=True):\n",
    "    \"\"\"get dominant color in image if found, else NaN\"\"\"\n",
    "    try:\n",
    "        color_thief = ColorThief(file_path)\n",
    "        dominant_color = color_thief.get_color(quality=5)\n",
    "    except:\n",
    "        dominant_color = np.nan\n",
    "    return dominant_color"
   ]
  },
  {
   "cell_type": "code",
   "execution_count": null,
   "metadata": {},
   "outputs": [],
   "source": [
    "def create_dominant_color_column(df, column, path, female = True):\n",
    "    \"\"\"add dominant colors column to dataframe\"\"\"\n",
    "    dominant_colors = []  \n",
    "    if female:\n",
    "        gendered_path = path+'women/'\n",
    "    else:\n",
    "        gendered_path = path+'men/'\n",
    "    for i, f in df[column].iteritems():\n",
    "        dominant_colors.append(get_dominant_color(gendered_path+f, female))\n",
    "    se = pd.Series(dominant_colors)\n",
    "    df['dominant_color'] = se.values\n",
    "\n",
    "  "
   ]
  },
  {
   "cell_type": "code",
   "execution_count": null,
   "metadata": {},
   "outputs": [],
   "source": [
    "path = '/Users/alexandraharlan/perfume_proj/data/images/'      \n",
    "create_dominant_color_column(df_raw_m, 'image_filename', path, False)\n",
    "create_dominant_color_column(df_raw_w,'image_filename', path)"
   ]
  },
  {
   "cell_type": "code",
   "execution_count": 11,
   "metadata": {},
   "outputs": [],
   "source": [
    "df_raw_m.to_csv('/Users/alexandraharlan/perfume_proj/data/raw/men_fragrance_details.csv', index=0)\n",
    "df_raw_w.to_csv('/Users/alexandraharlan/perfume_proj/data/raw/women_fragrance_details.csv', index=0)"
   ]
  },
  {
   "cell_type": "code",
   "execution_count": null,
   "metadata": {},
   "outputs": [],
   "source": []
  }
 ],
 "metadata": {
  "kernelspec": {
   "display_name": "perfume_proj",
   "language": "python",
   "name": "env"
  },
  "language_info": {
   "codemirror_mode": {
    "name": "ipython",
    "version": 3
   },
   "file_extension": ".py",
   "mimetype": "text/x-python",
   "name": "python",
   "nbconvert_exporter": "python",
   "pygments_lexer": "ipython3",
   "version": "3.7.0"
  }
 },
 "nbformat": 4,
 "nbformat_minor": 2
}
