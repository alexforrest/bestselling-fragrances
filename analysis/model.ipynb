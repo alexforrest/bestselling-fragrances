{
 "cells": [
  {
   "cell_type": "markdown",
   "metadata": {},
   "source": [
    "## Predicting Fragrance Bestsellers"
   ]
  },
  {
   "cell_type": "markdown",
   "metadata": {},
   "source": [
    "### Approach\n",
    "\n",
    "Reviews and loves for each fragrance both appear to be highly correlated with bestsellers (as we might've guessed). However, this information would not be available before advertising the product for sale. Instead, we will use information that we would have access to before selling the fragrances to see if we can predict bestselling fragrances. "
   ]
  },
  {
   "cell_type": "markdown",
   "metadata": {},
   "source": [
    "### Results\n",
    "\n",
    "Our model achieved an accuracy of 0.865, precision of .47, and recall of .33.\n",
    "\n",
    "While our precision and recall might be lower than we'd like we've been able to predict a fair number of bestsellers, which could be useful when deciding which products to carry or promote.\n",
    "\n",
    "In order to decide how successful our model is, we would need to know the cost of incorrectly predicting a bestseller (cost of advertising, shelf space, etc) and the likely profit for correctly predicting bestsellers.\n",
    "\n",
    "In the case that advertising is driving the majority of bestsellers, we are predicting which fragrances Sephora will promote. This information might be useful competitors or those interesting in opening a new fragrance line."
   ]
  },
  {
   "cell_type": "markdown",
   "metadata": {},
   "source": [
    "### Possible Improvements\n",
    "\n",
    "- increasing the number of observations by collecting fragrance data over time\n",
    "    - cross-validation instead of balancing classes once more data has been collected \n",
    "- improving color clustering (L*a*b* color space, Minkowski) \n",
    "- imputing missing data via unsupervised learning (kmeans)\n",
    "- using NLP to determine fragrance types"
   ]
  },
  {
   "cell_type": "code",
   "execution_count": 475,
   "metadata": {},
   "outputs": [],
   "source": [
    "import pandas as pd \n",
    "import numpy as np\n",
    "import matplotlib.pyplot as plt\n",
    "\n",
    "#load cleaned data\n",
    "df_details = pd.read_csv('~/perfume_proj/data/processed/fragrance_details.csv')\n",
    "\n",
    "pd.options.mode.chained_assignment = None\n",
    "\n",
    "#df for model data\n",
    "df_model = pd.DataFrame()"
   ]
  },
  {
   "cell_type": "markdown",
   "metadata": {},
   "source": [
    "## Feature Engineering"
   ]
  },
  {
   "cell_type": "code",
   "execution_count": 476,
   "metadata": {},
   "outputs": [],
   "source": [
    "from sklearn.cluster import KMeans\n",
    "\n",
    "#add price per oz feature\n",
    "df_details['price_per_oz'] = df_details.price/df_details.oz_at_price\n",
    "\n",
    "#create other categories for brand and type \n",
    "df_details.loc[df_details['type'].isin(\n",
    "    (df_details['type'].value_counts()[df_details['type'].value_counts()<=20]).index), 'type'] = 'other_type'\n",
    "\n",
    "#add color clusters\n",
    "kmeans = KMeans(n_clusters =50).fit(dominant_colors)\n",
    "df_details['color_cluster'] = kmeans.labels_"
   ]
  },
  {
   "cell_type": "markdown",
   "metadata": {},
   "source": [
    "### Handling Missing Values"
   ]
  },
  {
   "cell_type": "code",
   "execution_count": 477,
   "metadata": {},
   "outputs": [],
   "source": [
    "scent_descriptors = ['floral', 'fresh ', 'warm', 'spicy|spice', 'earthy', 'woody|wood', \n",
    "                     'musk|musky', 'vanilla', 'fruit|fruity', 'sweet', 'oil', 'rose']\n",
    "\n",
    "#build model df\n",
    "df_model['advertised_price'] = df_details.price\n",
    "df_model['advertised_oz'] = df_details.oz_at_price\n",
    "df_model['bestseller'] = df_details.bestseller.apply(lambda x: 1 if x is True else 0)\n",
    "df_model['price_per_oz'] = df_details.price_per_oz\n",
    "df_model[scent_descriptors] = df_details[scent_descriptors]\n",
    "\n",
    "\n",
    "#fill missing advertised_oz with median \n",
    "df_model.advertised_oz[df_model.advertised_oz.isna()]= df_model.advertised_oz.median()\n",
    "\n",
    "#fill missing options with standard size\n",
    "df_details.options[df_details.options.isna()] = \"['standard size']\""
   ]
  },
  {
   "cell_type": "markdown",
   "metadata": {},
   "source": [
    "### Create Dummies "
   ]
  },
  {
   "cell_type": "code",
   "execution_count": 478,
   "metadata": {},
   "outputs": [],
   "source": [
    "size_opt_dummies = df_details.options.str.replace(r\"[^a-zA-Z0-9_,]\", '').str.get_dummies(sep=',')\n",
    "type_dummies = pd.get_dummies(df_details.type)\n",
    "brand_dummies = pd.get_dummies(df_details.brand)\n",
    "gender_dummies = pd.get_dummies(df_details.sex, drop_first = True)\n",
    "color_dummies = pd.get_dummies(df_details.color_cluster)\n",
    "\n",
    "df_model = pd.concat([df_model, size_opt_dummies], axis=1)\n",
    "df_model = pd.concat([type_dummies, df_model], axis =1)\n",
    "df_model = pd.concat([brand_dummies, df_model], axis =1)\n",
    "df_model = pd.concat([gender_dummies, df_model], axis =1)\n",
    "df_model = pd.concat([color_dummies, df_model], axis =1)"
   ]
  },
  {
   "cell_type": "code",
   "execution_count": 479,
   "metadata": {},
   "outputs": [
    {
     "data": {
      "text/html": [
       "<div>\n",
       "<style scoped>\n",
       "    .dataframe tbody tr th:only-of-type {\n",
       "        vertical-align: middle;\n",
       "    }\n",
       "\n",
       "    .dataframe tbody tr th {\n",
       "        vertical-align: top;\n",
       "    }\n",
       "\n",
       "    .dataframe thead th {\n",
       "        text-align: right;\n",
       "    }\n",
       "</style>\n",
       "<table border=\"1\" class=\"dataframe\">\n",
       "  <thead>\n",
       "    <tr style=\"text-align: right;\">\n",
       "      <th></th>\n",
       "      <th>0</th>\n",
       "      <th>1</th>\n",
       "      <th>2</th>\n",
       "      <th>3</th>\n",
       "      <th>4</th>\n",
       "      <th>5</th>\n",
       "      <th>6</th>\n",
       "      <th>7</th>\n",
       "      <th>8</th>\n",
       "      <th>9</th>\n",
       "      <th>...</th>\n",
       "      <th>vanilla</th>\n",
       "      <th>fruit|fruity</th>\n",
       "      <th>sweet</th>\n",
       "      <th>oil</th>\n",
       "      <th>rose</th>\n",
       "      <th>jumbosize</th>\n",
       "      <th>minisize</th>\n",
       "      <th>sale</th>\n",
       "      <th>standardsize</th>\n",
       "      <th>valuesize</th>\n",
       "    </tr>\n",
       "  </thead>\n",
       "  <tbody>\n",
       "    <tr>\n",
       "      <th>0</th>\n",
       "      <td>0</td>\n",
       "      <td>0</td>\n",
       "      <td>0</td>\n",
       "      <td>0</td>\n",
       "      <td>0</td>\n",
       "      <td>0</td>\n",
       "      <td>0</td>\n",
       "      <td>0</td>\n",
       "      <td>0</td>\n",
       "      <td>0</td>\n",
       "      <td>...</td>\n",
       "      <td>1</td>\n",
       "      <td>1</td>\n",
       "      <td>1</td>\n",
       "      <td>0</td>\n",
       "      <td>0</td>\n",
       "      <td>0</td>\n",
       "      <td>1</td>\n",
       "      <td>0</td>\n",
       "      <td>1</td>\n",
       "      <td>0</td>\n",
       "    </tr>\n",
       "    <tr>\n",
       "      <th>1</th>\n",
       "      <td>0</td>\n",
       "      <td>0</td>\n",
       "      <td>0</td>\n",
       "      <td>0</td>\n",
       "      <td>0</td>\n",
       "      <td>0</td>\n",
       "      <td>0</td>\n",
       "      <td>0</td>\n",
       "      <td>0</td>\n",
       "      <td>0</td>\n",
       "      <td>...</td>\n",
       "      <td>1</td>\n",
       "      <td>0</td>\n",
       "      <td>0</td>\n",
       "      <td>0</td>\n",
       "      <td>0</td>\n",
       "      <td>0</td>\n",
       "      <td>0</td>\n",
       "      <td>0</td>\n",
       "      <td>1</td>\n",
       "      <td>0</td>\n",
       "    </tr>\n",
       "    <tr>\n",
       "      <th>2</th>\n",
       "      <td>0</td>\n",
       "      <td>0</td>\n",
       "      <td>0</td>\n",
       "      <td>0</td>\n",
       "      <td>0</td>\n",
       "      <td>0</td>\n",
       "      <td>0</td>\n",
       "      <td>0</td>\n",
       "      <td>0</td>\n",
       "      <td>0</td>\n",
       "      <td>...</td>\n",
       "      <td>0</td>\n",
       "      <td>0</td>\n",
       "      <td>0</td>\n",
       "      <td>0</td>\n",
       "      <td>0</td>\n",
       "      <td>0</td>\n",
       "      <td>0</td>\n",
       "      <td>0</td>\n",
       "      <td>1</td>\n",
       "      <td>0</td>\n",
       "    </tr>\n",
       "    <tr>\n",
       "      <th>3</th>\n",
       "      <td>0</td>\n",
       "      <td>0</td>\n",
       "      <td>0</td>\n",
       "      <td>0</td>\n",
       "      <td>0</td>\n",
       "      <td>0</td>\n",
       "      <td>0</td>\n",
       "      <td>0</td>\n",
       "      <td>0</td>\n",
       "      <td>0</td>\n",
       "      <td>...</td>\n",
       "      <td>1</td>\n",
       "      <td>0</td>\n",
       "      <td>1</td>\n",
       "      <td>1</td>\n",
       "      <td>0</td>\n",
       "      <td>0</td>\n",
       "      <td>1</td>\n",
       "      <td>0</td>\n",
       "      <td>1</td>\n",
       "      <td>0</td>\n",
       "    </tr>\n",
       "    <tr>\n",
       "      <th>4</th>\n",
       "      <td>0</td>\n",
       "      <td>0</td>\n",
       "      <td>0</td>\n",
       "      <td>0</td>\n",
       "      <td>0</td>\n",
       "      <td>0</td>\n",
       "      <td>0</td>\n",
       "      <td>0</td>\n",
       "      <td>0</td>\n",
       "      <td>0</td>\n",
       "      <td>...</td>\n",
       "      <td>1</td>\n",
       "      <td>0</td>\n",
       "      <td>0</td>\n",
       "      <td>0</td>\n",
       "      <td>1</td>\n",
       "      <td>0</td>\n",
       "      <td>1</td>\n",
       "      <td>0</td>\n",
       "      <td>1</td>\n",
       "      <td>0</td>\n",
       "    </tr>\n",
       "  </tbody>\n",
       "</table>\n",
       "<p>5 rows × 169 columns</p>\n",
       "</div>"
      ],
      "text/plain": [
       "   0  1  2  3  4  5  6  7  8  9    ...      vanilla  fruit|fruity  sweet  oil  \\\n",
       "0  0  0  0  0  0  0  0  0  0  0    ...            1             1      1    0   \n",
       "1  0  0  0  0  0  0  0  0  0  0    ...            1             0      0    0   \n",
       "2  0  0  0  0  0  0  0  0  0  0    ...            0             0      0    0   \n",
       "3  0  0  0  0  0  0  0  0  0  0    ...            1             0      1    1   \n",
       "4  0  0  0  0  0  0  0  0  0  0    ...            1             0      0    0   \n",
       "\n",
       "   rose  jumbosize  minisize  sale  standardsize  valuesize  \n",
       "0     0          0         1     0             1          0  \n",
       "1     0          0         0     0             1          0  \n",
       "2     0          0         0     0             1          0  \n",
       "3     0          0         1     0             1          0  \n",
       "4     1          0         1     0             1          0  \n",
       "\n",
       "[5 rows x 169 columns]"
      ]
     },
     "execution_count": 479,
     "metadata": {},
     "output_type": "execute_result"
    }
   ],
   "source": [
    "df_model.head()"
   ]
  },
  {
   "cell_type": "markdown",
   "metadata": {},
   "source": [
    "## Classifier"
   ]
  },
  {
   "cell_type": "code",
   "execution_count": 569,
   "metadata": {},
   "outputs": [],
   "source": [
    "import seaborn as sns\n",
    "import matplotlib.pyplot as plt \n",
    "from sklearn.metrics import confusion_matrix, accuracy_score, make_scorer \n",
    "from imblearn.over_sampling import SMOTE\n",
    "from sklearn.model_selection import train_test_split\n",
    "\n",
    "df_model = df_model.dropna()\n",
    "\n",
    "X = df_model.drop('bestseller', axis =1)\n",
    "y = df_model.bestseller\n",
    "\n",
    "X_train, X_test, y_train, y_test = train_test_split(X,y, test_size = .15, shuffle = True, random_state=12)\n",
    "\n",
    "#oversample to balance imbalanced classes\n",
    "sm = SMOTE(random_state=12, sampling_strategy = .6)\n",
    "X_train_res, y_train_res = sm.fit_sample(X_train, y_train)\n"
   ]
  },
  {
   "cell_type": "markdown",
   "metadata": {},
   "source": [
    "From earlier EDA we saw that our dataset is imbalanced, therefore we oversample to correct for this imbalance. Undersampling would leave us with too little data to build our model with. We also split our data 85% training and 15% so that the model has more data to learn from."
   ]
  },
  {
   "cell_type": "code",
   "execution_count": 585,
   "metadata": {},
   "outputs": [
    {
     "name": "stdout",
     "output_type": "stream",
     "text": [
      "Accuracy:  0.8653846153846154\n"
     ]
    },
    {
     "data": {
      "image/png": "[encoded data removed]",
      "text/plain": [
       "<Figure size 432x288 with 2 Axes>"
      ]
     },
     "metadata": {},
     "output_type": "display_data"
    }
   ],
   "source": [
    "from sklearn.ensemble import GradientBoostingClassifier\n",
    "from sklearn.model_selection import GridSearchCV\n",
    "\n",
    "boost = GradientBoostingClassifier(max_depth=5 , n_estimators= 450)\n",
    "\n",
    "boost.fit(X_train_res, y_train_res)\n",
    "y_predict = boost.predict(X_test)\n",
    "\n",
    "#plot confusion matrix\n",
    "cm = confusion_matrix(y_test, y_predict)   \n",
    "ax= plt.subplot()\n",
    "sns.heatmap(cm, annot=True, ax = ax)\n",
    "\n",
    "# labels, title and ticks\n",
    "ax.set_xlabel('Predicted');ax.set_ylabel('Actual'); \n",
    "ax.set_title('Confusion Matrix'); \n",
    "ax.xaxis.set_ticklabels(['not best seller', 'best seller'])\n",
    "ax.yaxis.set_ticklabels(['not best seller','best seller'])\n",
    "\n",
    "print('Accuracy: ', boost.score(X_test, y_test))"
   ]
  },
  {
   "cell_type": "code",
   "execution_count": 587,
   "metadata": {},
   "outputs": [
    {
     "data": {
      "text/plain": [
       "(0.47368421052631576, 0.3333333333333333)"
      ]
     },
     "execution_count": 587,
     "metadata": {},
     "output_type": "execute_result"
    }
   ],
   "source": [
    "from sklearn.metrics import precision_score, recall_score\n",
    "precision = precision_score(y_test,y_predict)\n",
    "recall = recall_score(y_test, y_predict)\n",
    "\n",
    "precision, recall"
   ]
  },
  {
   "cell_type": "code",
   "execution_count": 575,
   "metadata": {},
   "outputs": [],
   "source": [
    "feature_importances = sorted(list(zip(boost.feature_importances_, X.columns)), key = lambda x: x[0], reverse = True)"
   ]
  },
  {
   "cell_type": "code",
   "execution_count": 576,
   "metadata": {},
   "outputs": [
    {
     "data": {
      "image/png": "[encoded data removed]",
      "text/plain": [
       "<Figure size 432x288 with 1 Axes>"
      ]
     },
     "metadata": {},
     "output_type": "display_data"
    }
   ],
   "source": [
    "sns.set_style('darkgrid')\n",
    "y, x = zip(*feature_importances)\n",
    "plt.bar([str(i) for i in x][:30], y[:30])\n",
    "plt.xticks(rotation=90);"
   ]
  }
 ],
 "metadata": {
  "kernelspec": {
   "display_name": "perfume_proj",
   "language": "python",
   "name": "env"
  },
  "language_info": {
   "codemirror_mode": {
    "name": "ipython",
    "version": 3
   },
   "file_extension": ".py",
   "mimetype": "text/x-python",
   "name": "python",
   "nbconvert_exporter": "python",
   "pygments_lexer": "ipython3",
   "version": "3.7.0"
  }
 },
 "nbformat": 4,
 "nbformat_minor": 2
}
